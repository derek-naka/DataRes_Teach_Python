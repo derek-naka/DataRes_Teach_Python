{
 "cells": [
  {
   "cell_type": "markdown",
   "id": "6c8c77c5-0d16-4c12-b178-a6f1656171a5",
   "metadata": {},
   "source": [
    "# Intro Python - Machine Learning"
   ]
  },
  {
   "cell_type": "code",
   "execution_count": 3,
   "id": "d57fe1b5-08cc-446b-89ce-6170c48d66c1",
   "metadata": {},
   "outputs": [],
   "source": [
    "# Import all of the important packages\n",
    "import numpy as np\n",
    "import pandas as pd\n",
    "import matplotlib.pyplot as plt\n",
    "%matplotlib inline\n",
    "import seaborn as sns\n",
    "import math\n",
    "import warnings\n",
    "warnings.filterwarnings(\"ignore\")\n",
    "\n",
    "from sklearn import linear_model\n",
    "import statsmodels.api as sm"
   ]
  },
  {
   "cell_type": "code",
   "execution_count": 4,
   "id": "9ac7b269-3375-40b9-afce-c917454d9588",
   "metadata": {},
   "outputs": [
    {
     "data": {
      "text/html": [
       "<div>\n",
       "<style scoped>\n",
       "    .dataframe tbody tr th:only-of-type {\n",
       "        vertical-align: middle;\n",
       "    }\n",
       "\n",
       "    .dataframe tbody tr th {\n",
       "        vertical-align: top;\n",
       "    }\n",
       "\n",
       "    .dataframe thead th {\n",
       "        text-align: right;\n",
       "    }\n",
       "</style>\n",
       "<table border=\"1\" class=\"dataframe\">\n",
       "  <thead>\n",
       "    <tr style=\"text-align: right;\">\n",
       "      <th></th>\n",
       "      <th>sepal_length</th>\n",
       "      <th>sepal_width</th>\n",
       "      <th>petal_length</th>\n",
       "      <th>petal_width</th>\n",
       "      <th>species</th>\n",
       "    </tr>\n",
       "  </thead>\n",
       "  <tbody>\n",
       "    <tr>\n",
       "      <th>0</th>\n",
       "      <td>5.1</td>\n",
       "      <td>3.5</td>\n",
       "      <td>1.4</td>\n",
       "      <td>0.2</td>\n",
       "      <td>Iris-setosa</td>\n",
       "    </tr>\n",
       "    <tr>\n",
       "      <th>1</th>\n",
       "      <td>4.9</td>\n",
       "      <td>3.0</td>\n",
       "      <td>1.4</td>\n",
       "      <td>0.2</td>\n",
       "      <td>Iris-setosa</td>\n",
       "    </tr>\n",
       "    <tr>\n",
       "      <th>2</th>\n",
       "      <td>4.7</td>\n",
       "      <td>3.2</td>\n",
       "      <td>1.3</td>\n",
       "      <td>0.2</td>\n",
       "      <td>Iris-setosa</td>\n",
       "    </tr>\n",
       "    <tr>\n",
       "      <th>3</th>\n",
       "      <td>4.6</td>\n",
       "      <td>3.1</td>\n",
       "      <td>1.5</td>\n",
       "      <td>0.2</td>\n",
       "      <td>Iris-setosa</td>\n",
       "    </tr>\n",
       "    <tr>\n",
       "      <th>4</th>\n",
       "      <td>5.0</td>\n",
       "      <td>3.6</td>\n",
       "      <td>1.4</td>\n",
       "      <td>0.2</td>\n",
       "      <td>Iris-setosa</td>\n",
       "    </tr>\n",
       "  </tbody>\n",
       "</table>\n",
       "</div>"
      ],
      "text/plain": [
       "   sepal_length  sepal_width  petal_length  petal_width      species\n",
       "0           5.1          3.5           1.4          0.2  Iris-setosa\n",
       "1           4.9          3.0           1.4          0.2  Iris-setosa\n",
       "2           4.7          3.2           1.3          0.2  Iris-setosa\n",
       "3           4.6          3.1           1.5          0.2  Iris-setosa\n",
       "4           5.0          3.6           1.4          0.2  Iris-setosa"
      ]
     },
     "execution_count": 4,
     "metadata": {},
     "output_type": "execute_result"
    }
   ],
   "source": [
    "# import data set\n",
    "flower_data = pd.read_csv(\"IRIS.csv\")\n",
    "flower_data.head(5)"
   ]
  },
  {
   "cell_type": "markdown",
   "id": "38ff366f-e950-48d6-bce7-51d39dc98e62",
   "metadata": {},
   "source": [
    "## Supervised Machine Learning - Linear Regression\n",
    "\n",
    "Supervised machine learning is a subcategory of machine learning and artificial intelligence. It is defined by its use of labeled datasets to train algorithms that to classify data or predict outcomes accurately"
   ]
  },
  {
   "cell_type": "code",
   "execution_count": 5,
   "id": "91f2f438-b0b5-424d-a6bd-d3288d1a5fa5",
   "metadata": {},
   "outputs": [
    {
     "name": "stdout",
     "output_type": "stream",
     "text": [
      "Intercept: \n",
      " [4.18950102]\n",
      "Coefficients: \n",
      " [[ 0.54099383 -0.31667117]]\n",
      "                            OLS Regression Results                            \n",
      "==============================================================================\n",
      "Dep. Variable:           sepal_length   R-squared:                       0.766\n",
      "Model:                            OLS   Adj. R-squared:                  0.763\n",
      "Method:                 Least Squares   F-statistic:                     240.8\n",
      "Date:                Mon, 13 Feb 2023   Prob (F-statistic):           4.10e-47\n",
      "Time:                        19:17:08   Log-Likelihood:                -75.049\n",
      "No. Observations:                 150   AIC:                             156.1\n",
      "Df Residuals:                     147   BIC:                             165.1\n",
      "Df Model:                           2                                         \n",
      "Covariance Type:            nonrobust                                         \n",
      "================================================================================\n",
      "                   coef    std err          t      P>|t|      [0.025      0.975]\n",
      "--------------------------------------------------------------------------------\n",
      "const            4.1895      0.097     43.042      0.000       3.997       4.382\n",
      "petal_length     0.5410      0.069      7.815      0.000       0.404       0.678\n",
      "petal_width     -0.3167      0.160     -1.978      0.050      -0.633      -0.000\n",
      "==============================================================================\n",
      "Omnibus:                        0.396   Durbin-Watson:                   1.829\n",
      "Prob(Omnibus):                  0.820   Jarque-Bera (JB):                0.552\n",
      "Skew:                           0.063   Prob(JB):                        0.759\n",
      "Kurtosis:                       2.731   Cond. No.                         25.3\n",
      "==============================================================================\n",
      "\n",
      "Notes:\n",
      "[1] Standard Errors assume that the covariance matrix of the errors is correctly specified.\n"
     ]
    }
   ],
   "source": [
    "# Linear Regression Model\n",
    "x = flower_data[['petal_length','petal_width']]\n",
    "y = flower_data[['sepal_length']]\n",
    "\n",
    "# with sklearn\n",
    "regr = linear_model.LinearRegression()\n",
    "regr.fit(x, y)\n",
    "\n",
    "print('Intercept: \\n', regr.intercept_)\n",
    "print('Coefficients: \\n', regr.coef_)\n",
    "    \n",
    "# with statsmodels\n",
    "x = sm.add_constant(x) # adding a constant\n",
    "\n",
    "model = sm.OLS(y, x).fit()\n",
    " \n",
    "print_model = model.summary()\n",
    "print(print_model)"
   ]
  },
  {
   "cell_type": "code",
   "execution_count": 6,
   "id": "2921f710-ac07-4282-9b37-d7b8f49fb515",
   "metadata": {},
   "outputs": [
    {
     "data": {
      "text/html": [
       "<div>\n",
       "<style scoped>\n",
       "    .dataframe tbody tr th:only-of-type {\n",
       "        vertical-align: middle;\n",
       "    }\n",
       "\n",
       "    .dataframe tbody tr th {\n",
       "        vertical-align: top;\n",
       "    }\n",
       "\n",
       "    .dataframe thead th {\n",
       "        text-align: right;\n",
       "    }\n",
       "</style>\n",
       "<table border=\"1\" class=\"dataframe\">\n",
       "  <thead>\n",
       "    <tr style=\"text-align: right;\">\n",
       "      <th></th>\n",
       "      <th>petal_length</th>\n",
       "      <th>petal_width</th>\n",
       "      <th>Predict_Sepal_Length</th>\n",
       "    </tr>\n",
       "  </thead>\n",
       "  <tbody>\n",
       "    <tr>\n",
       "      <th>test1</th>\n",
       "      <td>1.4</td>\n",
       "      <td>0.2</td>\n",
       "      <td>4.8830</td>\n",
       "    </tr>\n",
       "    <tr>\n",
       "      <th>test2</th>\n",
       "      <td>1.5</td>\n",
       "      <td>0.3</td>\n",
       "      <td>4.9054</td>\n",
       "    </tr>\n",
       "  </tbody>\n",
       "</table>\n",
       "</div>"
      ],
      "text/plain": [
       "       petal_length  petal_width  Predict_Sepal_Length\n",
       "test1           1.4          0.2                4.8830\n",
       "test2           1.5          0.3                4.9054"
      ]
     },
     "execution_count": 6,
     "metadata": {},
     "output_type": "execute_result"
    }
   ],
   "source": [
    "values_want_predict = pd.DataFrame({\"petal_length\": [1.4, 1.5], \"petal_width\": [0.2, 0.3]}, index = [\"test1\", \"test2\"])\n",
    "values_want_predict[\"Predict_Sepal_Length\"] = 4.189 + (values_want_predict.petal_length * 0.541) + (values_want_predict.petal_width * -0.317)\n",
    "\n",
    "values_want_predict"
   ]
  },
  {
   "cell_type": "markdown",
   "id": "e33f36ea-d84b-47f9-887a-b5f741ba060d",
   "metadata": {},
   "source": [
    "## Supervised Machine Learning - Nonlinear Regression"
   ]
  },
  {
   "cell_type": "code",
   "execution_count": 7,
   "id": "5eca6ece-582b-471b-bd58-2141e1c4bea7",
   "metadata": {},
   "outputs": [
    {
     "data": {
      "image/png": "[encoded data removed]",
      "text/plain": [
       "<Figure size 432x288 with 1 Axes>"
      ]
     },
     "metadata": {
      "needs_background": "light"
     },
     "output_type": "display_data"
    }
   ],
   "source": [
    "from scipy.optimize import curve_fit\n",
    "df = pd.read_csv(\"china_gdp.csv\")\n",
    "\n",
    "# have to determine which equation works best based on graph first - in this case it is a logistic function\n",
    "def sigmoid(x, Beta_1, Beta_2):\n",
    "    y = 1 / (1 + np.exp(-Beta_1*(x-Beta_2)))\n",
    "    # could also be y = Beta_1 + x*Beta_2\n",
    "    # could also be y = Beta_1 + Beta_2*(x**2)\n",
    "    return y\n",
    "\n",
    "x_data = df[\"Year\"].values\n",
    "y_data = df[\"Value\"].values\n",
    "\n",
    "xdata = x_data/max(x_data)\n",
    "ydata = y_data/max(y_data)\n",
    "popt, pcov = curve_fit(sigmoid, xdata, ydata)\n",
    "\n",
    "x = np.linspace(1960, 2015, 55)\n",
    "x = x/max(x)\n",
    "y = sigmoid(x, *popt)\n",
    "\n",
    "plt.plot(xdata, ydata, 'ro', label='data')\n",
    "plt.plot(x,y, linewidth=3.0, label='fit')\n",
    "\n",
    "plt.legend()\n",
    "plt.title('GDP vs. Year')\n",
    "plt.ylabel('GDP')\n",
    "plt.xlabel('Year')\n",
    "plt.show()"
   ]
  },
  {
   "cell_type": "code",
   "execution_count": 8,
   "id": "85c27b66-3ac0-4c6b-bfb3-0598cca7555d",
   "metadata": {},
   "outputs": [
    {
     "data": {
      "text/html": [
       "<div>\n",
       "<style scoped>\n",
       "    .dataframe tbody tr th:only-of-type {\n",
       "        vertical-align: middle;\n",
       "    }\n",
       "\n",
       "    .dataframe tbody tr th {\n",
       "        vertical-align: top;\n",
       "    }\n",
       "\n",
       "    .dataframe thead th {\n",
       "        text-align: right;\n",
       "    }\n",
       "</style>\n",
       "<table border=\"1\" class=\"dataframe\">\n",
       "  <thead>\n",
       "    <tr style=\"text-align: right;\">\n",
       "      <th></th>\n",
       "      <th>petal_length</th>\n",
       "      <th>Predict_GDP</th>\n",
       "    </tr>\n",
       "  </thead>\n",
       "  <tbody>\n",
       "    <tr>\n",
       "      <th>test1</th>\n",
       "      <td>0.980</td>\n",
       "      <td>0.000007</td>\n",
       "    </tr>\n",
       "    <tr>\n",
       "      <th>test2</th>\n",
       "      <td>0.995</td>\n",
       "      <td>0.178886</td>\n",
       "    </tr>\n",
       "  </tbody>\n",
       "</table>\n",
       "</div>"
      ],
      "text/plain": [
       "       petal_length  Predict_GDP\n",
       "test1         0.980     0.000007\n",
       "test2         0.995     0.178886"
      ]
     },
     "execution_count": 8,
     "metadata": {},
     "output_type": "execute_result"
    }
   ],
   "source": [
    "values_want_predict = pd.DataFrame({\"petal_length\": [0.98, 0.995]}, index = [\"test1\", \"test2\"])\n",
    "beta1 = popt[[0]]\n",
    "beta2 = popt[[1]]\n",
    "\n",
    "values_want_predict[\"Predict_GDP\"] = 1 / (1 + np.exp( -beta1 * (values_want_predict.petal_length - beta2)))\n",
    "\n",
    "values_want_predict"
   ]
  },
  {
   "cell_type": "markdown",
   "id": "bbbb06df-9261-43f3-ba18-9d4d761a22b5",
   "metadata": {},
   "source": [
    "## Unsupervised Machine Learning\n",
    "\n",
    "Unsupervised machine learning uses machine learning algorithms to analyze and cluster unlabeled datasets. These algorithms discover hidden patterns or data groupings without the need for human intervention"
   ]
  },
  {
   "cell_type": "code",
   "execution_count": 9,
   "id": "3c13e2ed-d391-4f37-9976-ddaebd5b7fa7",
   "metadata": {},
   "outputs": [
    {
     "data": {
      "text/html": [
       "<div>\n",
       "<style scoped>\n",
       "    .dataframe tbody tr th:only-of-type {\n",
       "        vertical-align: middle;\n",
       "    }\n",
       "\n",
       "    .dataframe tbody tr th {\n",
       "        vertical-align: top;\n",
       "    }\n",
       "\n",
       "    .dataframe thead th {\n",
       "        text-align: right;\n",
       "    }\n",
       "</style>\n",
       "<table border=\"1\" class=\"dataframe\">\n",
       "  <thead>\n",
       "    <tr style=\"text-align: right;\">\n",
       "      <th></th>\n",
       "      <th>sepal_length</th>\n",
       "      <th>sepal_width</th>\n",
       "      <th>petal_length</th>\n",
       "      <th>petal_width</th>\n",
       "      <th>species</th>\n",
       "    </tr>\n",
       "  </thead>\n",
       "  <tbody>\n",
       "    <tr>\n",
       "      <th>0</th>\n",
       "      <td>5.1</td>\n",
       "      <td>3.5</td>\n",
       "      <td>1.4</td>\n",
       "      <td>0.2</td>\n",
       "      <td>Iris-setosa</td>\n",
       "    </tr>\n",
       "    <tr>\n",
       "      <th>1</th>\n",
       "      <td>4.9</td>\n",
       "      <td>3.0</td>\n",
       "      <td>1.4</td>\n",
       "      <td>0.2</td>\n",
       "      <td>Iris-setosa</td>\n",
       "    </tr>\n",
       "    <tr>\n",
       "      <th>2</th>\n",
       "      <td>4.7</td>\n",
       "      <td>3.2</td>\n",
       "      <td>1.3</td>\n",
       "      <td>0.2</td>\n",
       "      <td>Iris-setosa</td>\n",
       "    </tr>\n",
       "    <tr>\n",
       "      <th>3</th>\n",
       "      <td>4.6</td>\n",
       "      <td>3.1</td>\n",
       "      <td>1.5</td>\n",
       "      <td>0.2</td>\n",
       "      <td>Iris-setosa</td>\n",
       "    </tr>\n",
       "    <tr>\n",
       "      <th>4</th>\n",
       "      <td>5.0</td>\n",
       "      <td>3.6</td>\n",
       "      <td>1.4</td>\n",
       "      <td>0.2</td>\n",
       "      <td>Iris-setosa</td>\n",
       "    </tr>\n",
       "  </tbody>\n",
       "</table>\n",
       "</div>"
      ],
      "text/plain": [
       "   sepal_length  sepal_width  petal_length  petal_width      species\n",
       "0           5.1          3.5           1.4          0.2  Iris-setosa\n",
       "1           4.9          3.0           1.4          0.2  Iris-setosa\n",
       "2           4.7          3.2           1.3          0.2  Iris-setosa\n",
       "3           4.6          3.1           1.5          0.2  Iris-setosa\n",
       "4           5.0          3.6           1.4          0.2  Iris-setosa"
      ]
     },
     "execution_count": 9,
     "metadata": {},
     "output_type": "execute_result"
    }
   ],
   "source": [
    "from sklearn.manifold import TSNE\n",
    "from sklearn.model_selection import train_test_split\n",
    "from sklearn.neighbors import KNeighborsClassifier\n",
    "from sklearn.cluster import KMeans\n",
    "\n",
    "# import data set\n",
    "flower_data = pd.read_csv(\"IRIS.csv\")\n",
    "flower_data.head(5)"
   ]
  },
  {
   "cell_type": "markdown",
   "id": "5daf567c-dc1a-4eb3-8c69-4a6b78327062",
   "metadata": {},
   "source": [
    "### Elbow Method\n",
    "\n",
    "A fundamental step for any unsupervised algorithm is to determine the optimal number of clusters into which the data may be clustered. The Elbow Method is one of the most popular methods to determine this optimal value of k.\n",
    "We now demonstrate the given method using the K-Means clustering technique using the Sklearn library of python.  Although it isn't necessary in this situation (because we already know that there are 3 species already, it is nice to know how to do it if you didn't know the amount of cluster groups."
   ]
  },
  {
   "cell_type": "code",
   "execution_count": 10,
   "id": "7d4f56ac-dc2c-4897-acbc-5640f49e0dab",
   "metadata": {},
   "outputs": [
    {
     "data": {
      "image/png": "[encoded data removed]",
      "text/plain": [
       "<Figure size 432x288 with 1 Axes>"
      ]
     },
     "metadata": {
      "needs_background": "light"
     },
     "output_type": "display_data"
    }
   ],
   "source": [
    "x_vars = flower_data[['sepal_length','sepal_width','petal_length','petal_width']]\n",
    "y_vars = flower_data[\"species\"]\n",
    "X_train, X_test, y_train, y_test = train_test_split( x_vars, y_vars, test_size = 0.20, random_state = 53)\n",
    "\n",
    "# Search for \"optimal\" number of clusters\n",
    "SS_dist = []\n",
    "K = range(1,10)\n",
    "for num_clusters in K :\n",
    "    kmeans = KMeans(n_clusters=num_clusters)\n",
    "    kmeans.fit(x_vars)\n",
    "    SS_dist.append(kmeans.inertia_)\n",
    "plt.plot(K,SS_dist,'bx-')\n",
    "plt.xlabel('Number of clusters $K$') \n",
    "plt.ylabel('Sum of squared distances') \n",
    "plt.title('Elbow Method For Optimal $K$')\n",
    "plt.show()"
   ]
  },
  {
   "cell_type": "markdown",
   "id": "e287f272-0d71-4d32-af9c-bdf94ad7af56",
   "metadata": {},
   "source": [
    "### Clustering Groups - PCA\n",
    "\n",
    "Principal Component Analysis (PCA) is a linear dimensionality reduction technique that can be utilized for extracting information from a high-dimensional space by projecting it into a lower-dimensional sub-space."
   ]
  },
  {
   "cell_type": "code",
   "execution_count": 11,
   "id": "4ac61431-f87b-4e20-8b69-1c08533bdf71",
   "metadata": {},
   "outputs": [
    {
     "data": {
      "image/png": "[encoded data removed]",
      "text/plain": [
       "<Figure size 576x576 with 1 Axes>"
      ]
     },
     "metadata": {
      "needs_background": "light"
     },
     "output_type": "display_data"
    }
   ],
   "source": [
    "from sklearn.preprocessing import StandardScaler\n",
    "from sklearn.decomposition import PCA\n",
    "\n",
    "features = ['sepal_length', 'sepal_width', 'petal_length', 'petal_width']\n",
    "# Separating out the features\n",
    "x = flower_data.loc[:, features].values\n",
    "# Separating out the target\n",
    "y = flower_data.loc[:,['species']].values\n",
    "# Standardizing the features\n",
    "x = StandardScaler().fit_transform(x)\n",
    "\n",
    "\n",
    "pca = PCA(n_components=2)\n",
    "principalComponents = pca.fit_transform(x)\n",
    "principalDf = pd.DataFrame(data = principalComponents, columns = ['principal component 1', 'principal component 2'])\n",
    "finalDf = pd.concat([principalDf, flower_data[['species']]], axis = 1)\n",
    "\n",
    "\n",
    "fig = plt.figure(figsize = (8,8))\n",
    "ax = fig.add_subplot(1,1,1) \n",
    "ax.set_xlabel('Principal Component 1', fontsize = 15)\n",
    "ax.set_ylabel('Principal Component 2', fontsize = 15)\n",
    "ax.set_title('2 component PCA', fontsize = 20)\n",
    "\n",
    "\n",
    "targets = ['Iris-setosa', 'Iris-versicolor', 'Iris-virginica']\n",
    "colors = ['r', 'g', 'b']\n",
    "for target, color in zip(targets,colors):\n",
    "    indicesToKeep = finalDf['species'] == target\n",
    "    ax.scatter(finalDf.loc[indicesToKeep, 'principal component 1'], finalDf.loc[indicesToKeep, 'principal component 2'], c = color, s = 50)\n",
    "ax.legend(targets)\n",
    "ax.grid()\n"
   ]
  },
  {
   "cell_type": "markdown",
   "id": "6b1fb8fc-958a-423a-ba5f-44546ea12a4f",
   "metadata": {},
   "source": [
    "### Clustering Groups - TSNE\n",
    "\n",
    "T-distributed neighbor embedding (t-SNE) is a dimensionality reduction technique that helps users visualize high-dimensional data sets. It takes the original data that is entered into the algorithm and matches both distributions to determine how to best represent this data using fewer dimensions. t-SNE is another dimensionality reduction algorithm but unlike PCA is able to account for non-linear relationships"
   ]
  },
  {
   "cell_type": "code",
   "execution_count": 12,
   "id": "e13d5f9e-71fb-4ed3-9da1-02fba05b583e",
   "metadata": {},
   "outputs": [
    {
     "data": {
      "text/plain": [
       "<matplotlib.legend.Legend at 0x207a9cc3460>"
      ]
     },
     "execution_count": 12,
     "metadata": {},
     "output_type": "execute_result"
    },
    {
     "data": {
      "image/png": "[encoded data removed]",
      "text/plain": [
       "<Figure size 432x288 with 1 Axes>"
      ]
     },
     "metadata": {
      "needs_background": "light"
     },
     "output_type": "display_data"
    }
   ],
   "source": [
    "numbers_only = flower_data[['sepal_length','sepal_width','petal_length','petal_width']]\n",
    "new_labels = [\n",
    "    (flower_data[\"species\"] == \"Iris-setosa\"),\n",
    "    (flower_data[\"species\"] == \"Iris-versicolor\"),\n",
    "    (flower_data[\"species\"] == \"Iris-virginica\")\n",
    "]\n",
    "des_labels = [0,1,2] \n",
    "data_labels = np.select(new_labels, des_labels)\n",
    "\n",
    "\n",
    "model_tsne = TSNE(n_components = 2) \n",
    "transformed = model_tsne.fit_transform(numbers_only)\n",
    "\n",
    "\n",
    "scatter = plt.scatter(transformed[:,0], transformed[:,1], c=data_labels);\n",
    "plt.legend(handles=scatter.legend_elements()[0], labels = ['Iris-setosa', 'Iris-versicolor', 'Iris-virginica'])"
   ]
  },
  {
   "cell_type": "markdown",
   "id": "753e1a7b-40ca-4bbc-9ab8-b58ebbfc0c49",
   "metadata": {},
   "source": [
    "### K-Nearest Neighbors\n",
    "Now we need to determine how many surrrounding points are references when predicting a new data point. Now we need to determine how many surrrounding points are references when predicting a new data point. Choosing a small value of K leads to unstable decision boundaries. The substantial K value is better for classification as it leads to smoothening the decision boundaries. We want to choose a k-value whose error is low. "
   ]
  },
  {
   "cell_type": "code",
   "execution_count": 13,
   "id": "85de524e-8689-4df2-b9d3-a30448ca5481",
   "metadata": {},
   "outputs": [
    {
     "data": {
      "image/png": "[encoded data removed]",
      "text/plain": [
       "<Figure size 432x288 with 1 Axes>"
      ]
     },
     "metadata": {
      "needs_background": "light"
     },
     "output_type": "display_data"
    }
   ],
   "source": [
    "X_train, X_test, y_train, y_test = train_test_split( x_vars, y_vars, test_size = 0.20, random_state = 53)\n",
    "\n",
    "error_rate=[] #list that will store the average error rate value of k\n",
    "for i in range (1,15):  \n",
    "    clf=KNeighborsClassifier(n_neighbors=i)\n",
    "    clf.fit(X_train,y_train)\n",
    "    pred_i = clf.predict(X_test)\n",
    "    error_rate.append(np.mean(pred_i != y_test))\n",
    "\n",
    "plt.plot(range(1,15),error_rate)\n",
    "plt.title(\"Error rate vs k-value\",fontsize=20)\n",
    "plt.xlabel(\"k-values\",fontsize=20)\n",
    "plt.ylabel(\"error rate\",fontsize=20)\n",
    "plt.xticks(range(1,15))\n",
    "plt.show()"
   ]
  }
 ],
 "metadata": {
  "kernelspec": {
   "display_name": "Python 3 (ipykernel)",
   "language": "python",
   "name": "python3"
  },
  "language_info": {
   "codemirror_mode": {
    "name": "ipython",
    "version": 3
   },
   "file_extension": ".py",
   "mimetype": "text/x-python",
   "name": "python",
   "nbconvert_exporter": "python",
   "pygments_lexer": "ipython3",
   "version": "3.9.12"
  }
 },
 "nbformat": 4,
 "nbformat_minor": 5
}
